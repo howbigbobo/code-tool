{
 "cells": [
  {
   "cell_type": "markdown",
   "metadata": {
    "colab_type": "text",
    "id": "jUg8VqdmZX8f"
   },
   "source": [
    "# FaceID recreation using face embeddings and RGBD images.\n",
    "Made by [Norman Di Palo](https://medium.com/@normandipalo), March 2018."
   ]
  },
  {
   "cell_type": "markdown",
   "metadata": {
    "colab_type": "text",
    "id": "jj7vG-q2XjuG"
   },
   "source": [
    "# Let's start by downloading the dataset."
   ]
  },
  {
   "cell_type": "code",
   "execution_count": 1,
   "metadata": {
    "colab": {
     "autoexec": {
      "startup": false,
      "wait_interval": 0
     },
     "base_uri": "https://localhost:8080/",
     "height": 51,
     "output_extras": [
      {
       "item_id": 2
      }
     ]
    },
    "colab_type": "code",
    "executionInfo": {
     "elapsed": 1416,
     "status": "ok",
     "timestamp": 1520874536552,
     "user": {
      "displayName": "Norman Di Palo",
      "photoUrl": "//lh5.googleusercontent.com/-hwpkiYzSctg/AAAAAAAAAAI/AAAAAAAAAkg/I59DXttMdKw/s50-c-k-no/photo.jpg",
      "userId": "109405231849327541723"
     },
     "user_tz": -60
    },
    "id": "H_8TUMLAmn8P",
    "outputId": "515058f5-0773-48d1-8b47-338d8e1f487d"
   },
   "outputs": [
    {
     "name": "stdout",
     "output_type": "stream",
     "text": [
      "The history saving thread hit an unexpected error (OperationalError('disk I/O error',)).History will not be written to the database.\n"
     ]
    },
    {
     "name": "stderr",
     "output_type": "stream",
     "text": [
      "rm: cannot remove 'faceid_train': No such file or directory\n",
      "rm: cannot remove 'faceid_val': No such file or directory\n"
     ]
    }
   ],
   "source": [
    "#!rm -r faceid_train\n",
    "#!rm -r faceid_val"
   ]
  },
  {
   "cell_type": "code",
   "execution_count": 2,
   "metadata": {
    "colab": {
     "autoexec": {
      "startup": false,
      "wait_interval": 0
     },
     "base_uri": "https://localhost:8080/",
     "height": 34,
     "output_extras": [
      {
       "item_id": 1
      }
     ]
    },
    "colab_type": "code",
    "executionInfo": {
     "elapsed": 874,
     "status": "ok",
     "timestamp": 1520874537595,
     "user": {
      "displayName": "Norman Di Palo",
      "photoUrl": "//lh5.googleusercontent.com/-hwpkiYzSctg/AAAAAAAAAAI/AAAAAAAAAkg/I59DXttMdKw/s50-c-k-no/photo.jpg",
      "userId": "109405231849327541723"
     },
     "user_tz": -60
    },
    "id": "v3s164uzmrXW",
    "outputId": "a1954e21-068c-4062-bcca-c4ea744e7726"
   },
   "outputs": [
    {
     "name": "stdout",
     "output_type": "stream",
     "text": [
      "faceid_beta.1.py\n",
      "faceid_beta.ipynb\n",
      "faceid_beta.py\n",
      "README.md\n",
      "scopa_game.ipynb\n",
      "Untitled.ipynb\n"
     ]
    }
   ],
   "source": [
    "#!ls"
   ]
  },
  {
   "cell_type": "code",
   "execution_count": 3,
   "metadata": {
    "colab": {
     "autoexec": {
      "startup": false,
      "wait_interval": 0
     }
    },
    "colab_type": "code",
    "id": "ovZVY_1L0gEz"
   },
   "outputs": [],
   "source": [
    "#!mkdir faceid_train\n",
    "#!mkdir faceid_val"
   ]
  },
  {
   "cell_type": "code",
   "execution_count": null,
   "metadata": {
    "colab": {
     "autoexec": {
      "startup": false,
      "wait_interval": 0
     },
     "base_uri": "https://localhost:8080/",
     "height": 510,
     "output_extras": [
      {
       "item_id": 4
      },
      {
       "item_id": 5
      }
     ]
    },
    "colab_type": "code",
    "executionInfo": {
     "elapsed": 33902,
     "status": "ok",
     "timestamp": 1520874572816,
     "user": {
      "displayName": "Norman Di Palo",
      "photoUrl": "//lh5.googleusercontent.com/-hwpkiYzSctg/AAAAAAAAAAI/AAAAAAAAAkg/I59DXttMdKw/s50-c-k-no/photo.jpg",
      "userId": "109405231849327541723"
     },
     "user_tz": -60
    },
    "id": "YZQsKxXI0lei",
    "outputId": "e28176ad-0ed4-4b85-c435-91cee82f3fbe"
   },
   "outputs": [],
   "source": [
    "# # https://keras.io/\n",
    "# #!pip install -U keras\n",
    "# import keras"
   ]
  },
  {
   "cell_type": "code",
   "execution_count": null,
   "metadata": {
    "colab": {
     "autoexec": {
      "startup": false,
      "wait_interval": 0
     }
    },
    "colab_type": "code",
    "id": "mtBhj2akp_0O"
   },
   "outputs": [],
   "source": [
    "# link_list=[\"http://vap.aau.dk/wp-content/uploads/VAPRBGD/(2012-05-16)(151751).zip\", \"http://vap.aau.dk/wp-content/uploads/VAPRBGD/(2012-05-16)(153054).zip\", \"http://vap.aau.dk/wp-content/uploads/VAPRBGD/(2012-05-16)(154211).zip\", \"http://vap.aau.dk/wp-content/uploads/VAPRBGD/(2012-05-16)(160440).zip\", \"http://vap.aau.dk/wp-content/uploads/VAPRBGD/(2012-05-16)(160931).zip\", \"http://vap.aau.dk/wp-content/uploads/VAPRBGD/(2012-05-16)(161342).zip\", \"http://vap.aau.dk/wp-content/uploads/VAPRBGD/(2012-05-16)(163349).zip\", \"http://vap.aau.dk/wp-content/uploads/VAPRBGD/(2012-05-16)(164248).zip\", \"http://vap.aau.dk/wp-content/uploads/VAPRBGD/(2012-05-17)(141550).zip\", \\\n",
    "#           \"http://vap.aau.dk/wp-content/uploads/VAPRBGD/(2012-05-17)(142154).zip\", \"http://vap.aau.dk/wp-content/uploads/VAPRBGD/(2012-05-17)(142457).zip\", \"http://vap.aau.dk/wp-content/uploads/VAPRBGD/(2012-05-17)(143016).zip\", \"http://vap.aau.dk/wp-content/uploads/VAPRBGD/(2012-05-18)(132824).zip\", \"http://vap.aau.dk/wp-content/uploads/VAPRBGD/(2012-05-18)(133201).zip\", \"http://vap.aau.dk/wp-content/uploads/VAPRBGD/(2012-05-18)(133846).zip\", \\\n",
    "#           \"http://vap.aau.dk/wp-content/uploads/VAPRBGD/(2012-05-18)(134239).zip\", \"http://vap.aau.dk/wp-content/uploads/VAPRBGD/(2012-05-18)(134757).zip\", \"http://vap.aau.dk/wp-content/uploads/VAPRBGD/(2012-05-18)(140516).zip\", \"http://vap.aau.dk/wp-content/uploads/VAPRBGD/(2012-05-18)(143345).zip\", \"http://vap.aau.dk/wp-content/uploads/VAPRBGD/(2012-05-18)(144316).zip\", \"http://vap.aau.dk/wp-content/uploads/VAPRBGD/(2012-05-18)(145150).zip\", \"http://vap.aau.dk/wp-content/uploads/VAPRBGD/(2012-05-18)(145623).zip\", \"http://vap.aau.dk/wp-content/uploads/VAPRBGD/(2012-05-18)(150303).zip\", \\\n",
    "#           \"http://vap.aau.dk/wp-content/uploads/VAPRBGD/(2012-05-18)(150650).zip\", \"http://vap.aau.dk/wp-content/uploads/VAPRBGD/(2012-05-18)(151337).zip\", \"http://vap.aau.dk/wp-content/uploads/VAPRBGD/(2012-05-18)(151650).zip\"]\n",
    "# val_list=[\"http://vap.aau.dk/wp-content/uploads/VAPRBGD/(2012-05-18)(152717).zip\", \"http://vap.aau.dk/wp-content/uploads/VAPRBGD/(2012-05-18)(153532).zip\", \"http://vap.aau.dk/wp-content/uploads/VAPRBGD/(2012-05-18)(154129).zip\", \"http://vap.aau.dk/wp-content/uploads/VAPRBGD/(2012-05-18)(154728).zip\", \"http://vap.aau.dk/wp-content/uploads/VAPRBGD/(2012-05-18)(155357).zip\"]"
   ]
  },
  {
   "cell_type": "code",
   "execution_count": null,
   "metadata": {
    "colab": {
     "autoexec": {
      "startup": false,
      "wait_interval": 0
     }
    },
    "colab_type": "code",
    "id": "3muEPTwDkQ5J"
   },
   "outputs": [],
   "source": [
    "# import requests, zipfile, io\n",
    "# for link in link_list:\n",
    "#   r = requests.get(link, stream=True)\n",
    "#   z = zipfile.ZipFile(io.BytesIO(r.content))\n",
    "#   z.extractall(\"faceid_train\")\n",
    "# for link in val_list:\n",
    "#   r = requests.get(link, stream=True)\n",
    "#   z = zipfile.ZipFile(io.BytesIO(r.content))\n",
    "#   z.extractall(\"faceid_val\")"
   ]
  },
  {
   "cell_type": "markdown",
   "metadata": {
    "colab_type": "text",
    "id": "8oO8m58qXro4"
   },
   "source": [
    "# Input preprocessing.\n",
    "Here we create some functions that will create the input couple for our model, both correct and wrong couples. I created functions to have both depth-only input and RGBD inputs."
   ]
  },
  {
   "cell_type": "code",
   "execution_count": null,
   "metadata": {
    "colab": {
     "autoexec": {
      "startup": false,
      "wait_interval": 0
     }
    },
    "colab_type": "code",
    "id": "-1wK9iPVkshW"
   },
   "outputs": [],
   "source": [
    "import numpy as np\n",
    "import glob\n",
    "import matplotlib.pyplot as plt\n",
    "from PIL import Image"
   ]
  },
  {
   "cell_type": "code",
   "execution_count": null,
   "metadata": {
    "colab": {
     "autoexec": {
      "startup": false,
      "wait_interval": 0
     }
    },
    "colab_type": "code",
    "id": "TfBuWehTl5hF"
   },
   "outputs": [],
   "source": [
    "def create_couple(file_path):\n",
    "    folder=np.random.choice(glob.glob(file_path + \"*\"))\n",
    "    while folder == \"datalab\":\n",
    "      folder=np.random.choice(glob.glob(file_path + \"*\"))\n",
    "  #  print(folder)\n",
    "    mat=np.zeros((480,640), dtype='float32')\n",
    "    i=0\n",
    "    j=0\n",
    "    depth_file = np.random.choice(glob.glob(folder + \"/*.dat\"))\n",
    "    with open(depth_file) as file:\n",
    "        for line in file:\n",
    "            vals = line.split('\\t')\n",
    "            for val in vals:\n",
    "                if val == \"\\n\": continue \n",
    "                if int(val) > 1200 or int(val) == -1: val= 1200\n",
    "                mat[i][j]=float(int(val))\n",
    "                j+=1\n",
    "                j=j%640\n",
    "\n",
    "            i+=1\n",
    "        mat = np.asarray(mat)\n",
    "    mat_small=mat[140:340,220:420]\n",
    "    mat_small=(mat_small-np.mean(mat_small))/np.max(mat_small)\n",
    "#    plt.imshow(mat_small)\n",
    "#    plt.show()\n",
    "    \n",
    "    mat2=np.zeros((480,640), dtype='float32')\n",
    "    i=0\n",
    "    j=0\n",
    "    depth_file = np.random.choice(glob.glob(folder + \"/*.dat\"))\n",
    "    with open(depth_file) as file:\n",
    "        for line in file:\n",
    "            vals = line.split('\\t')\n",
    "            for val in vals:\n",
    "                if val == \"\\n\": continue \n",
    "                if int(val) > 1200 or int(val) == -1: val= 1200\n",
    "                mat2[i][j]=float(int(val))\n",
    "                j+=1\n",
    "                j=j%640\n",
    "\n",
    "            i+=1\n",
    "        mat2 = np.asarray(mat2)\n",
    "    mat2_small=mat2[140:340,220:420]\n",
    "    mat2_small=(mat2_small-np.mean(mat2_small))/np.max(mat2_small)\n",
    "#    plt.imshow(mat2_small)\n",
    "#    plt.show()\n",
    "    return np.array([mat_small, mat2_small])"
   ]
  },
  {
   "cell_type": "code",
   "execution_count": null,
   "metadata": {
    "colab": {
     "autoexec": {
      "startup": false,
      "wait_interval": 0
     },
     "base_uri": "https://localhost:8080/",
     "height": 476,
     "output_extras": [
      {
       "item_id": 1
      }
     ]
    },
    "colab_type": "code",
    "executionInfo": {
     "elapsed": 2380,
     "status": "ok",
     "timestamp": 1520875650316,
     "user": {
      "displayName": "Norman Di Palo",
      "photoUrl": "//lh5.googleusercontent.com/-hwpkiYzSctg/AAAAAAAAAAI/AAAAAAAAAkg/I59DXttMdKw/s50-c-k-no/photo.jpg",
      "userId": "109405231849327541723"
     },
     "user_tz": -60
    },
    "id": "xuVaH9UvBmTl",
    "outputId": "2fc81cfc-7677-4554-de66-5205c5fa02c1"
   },
   "outputs": [],
   "source": [
    "print(create_couple(\"faceid_train/\"))"
   ]
  },
  {
   "cell_type": "code",
   "execution_count": null,
   "metadata": {
    "colab": {
     "autoexec": {
      "startup": false,
      "wait_interval": 0
     }
    },
    "colab_type": "code",
    "id": "Fouazlib4jj7"
   },
   "outputs": [],
   "source": [
    "def create_couple_rgbd(file_path):\n",
    "    folder=np.random.choice(glob.glob(file_path + \"*\"))\n",
    "    while folder == \"datalab\":\n",
    "      folder=np.random.choice(glob.glob(file_path + \"*\"))\n",
    "  #  print(folder)\n",
    "    mat=np.zeros((480,640), dtype='float32')\n",
    "    i=0\n",
    "    j=0\n",
    "    depth_file = np.random.choice(glob.glob(folder + \"/*.dat\"))\n",
    "    with open(depth_file) as file:\n",
    "        for line in file:\n",
    "            vals = line.split('\\t')\n",
    "            for val in vals:\n",
    "                if val == \"\\n\": continue    \n",
    "                if int(val) > 1200 or int(val) == -1: val= 1200\n",
    "                mat[i][j]=float(int(val))\n",
    "                j+=1\n",
    "                j=j%640\n",
    "\n",
    "            i+=1\n",
    "        mat = np.asarray(mat)\n",
    "    mat_small=mat[140:340,220:420]\n",
    "    img = Image.open(depth_file[:-5] + \"c.bmp\")\n",
    "    img.thumbnail((640,480))\n",
    "    img = np.asarray(img)\n",
    "    img = img[140:340,220:420]\n",
    "    mat_small=(mat_small-np.mean(mat_small))/np.max(mat_small)\n",
    "#    plt.imshow(mat_small)\n",
    "#    plt.show()\n",
    "#    plt.imshow(img)\n",
    "#    plt.show()\n",
    "    \n",
    "    \n",
    "    mat2=np.zeros((480,640), dtype='float32')\n",
    "    i=0\n",
    "    j=0\n",
    "    depth_file = np.random.choice(glob.glob(folder + \"/*.dat\"))\n",
    "    with open(depth_file) as file:\n",
    "        for line in file:\n",
    "            vals = line.split('\\t')\n",
    "            for val in vals:\n",
    "                if val == \"\\n\": continue\n",
    "                if int(val) > 1200 or int(val) == -1: val= 1200\n",
    "                mat2[i][j]=float(int(val))\n",
    "                j+=1\n",
    "                j=j%640\n",
    "\n",
    "            i+=1\n",
    "        mat2 = np.asarray(mat2)\n",
    "    mat2_small=mat2[140:340,220:420]\n",
    "    img2 = Image.open(depth_file[:-5] + \"c.bmp\")\n",
    "    img2.thumbnail((640,480))\n",
    "    img2 = np.asarray(img2)\n",
    "    img2 = img2[160:360,240:440]\n",
    "\n",
    " #   plt.imshow(img2)\n",
    " #   plt.show()\n",
    "    mat2_small=(mat2_small-np.mean(mat2_small))/np.max(mat2_small)\n",
    " #   plt.imshow(mat2_small)\n",
    " #   plt.show()\n",
    "    \n",
    "    full1 = np.zeros((200,200,4))\n",
    "    full1[:,:,:3] = img[:,:,:3]\n",
    "    full1[:,:,3] = mat_small\n",
    "    \n",
    "    full2 = np.zeros((200,200,4))\n",
    "    full2[:,:,:3] = img2[:,:,:3]\n",
    "    full2[:,:,3] = mat2_small\n",
    "    return np.array([full1, full2])"
   ]
  },
  {
   "cell_type": "code",
   "execution_count": null,
   "metadata": {
    "colab": {
     "autoexec": {
      "startup": false,
      "wait_interval": 0
     },
     "base_uri": "https://localhost:8080/",
     "height": 2941,
     "output_extras": [
      {
       "item_id": 1
      }
     ]
    },
    "colab_type": "code",
    "executionInfo": {
     "elapsed": 1543,
     "status": "ok",
     "timestamp": 1520875654430,
     "user": {
      "displayName": "Norman Di Palo",
      "photoUrl": "//lh5.googleusercontent.com/-hwpkiYzSctg/AAAAAAAAAAI/AAAAAAAAAkg/I59DXttMdKw/s50-c-k-no/photo.jpg",
      "userId": "109405231849327541723"
     },
     "user_tz": -60
    },
    "id": "icTcfztOl9wY",
    "outputId": "be73b5b7-47fd-4355-944d-c62afe620588"
   },
   "outputs": [],
   "source": [
    "create_couple_rgbd(\"faceid_val/\")"
   ]
  },
  {
   "cell_type": "code",
   "execution_count": null,
   "metadata": {
    "colab": {
     "autoexec": {
      "startup": false,
      "wait_interval": 0
     }
    },
    "colab_type": "code",
    "id": "nNpd2wwKnT4b"
   },
   "outputs": [],
   "source": [
    "def create_wrong(file_path):\n",
    "    folder=np.random.choice(glob.glob(file_path + \"*\"))\n",
    "    while folder == \"datalab\":\n",
    "      folder=np.random.choice(glob.glob(file_path + \"*\"))    \n",
    "    mat=np.zeros((480,640), dtype='float32')\n",
    "    i=0\n",
    "    j=0\n",
    "    depth_file = np.random.choice(glob.glob(folder + \"/*.dat\"))\n",
    "    with open(depth_file) as file:\n",
    "        for line in file:\n",
    "            vals = line.split('\\t')\n",
    "            for val in vals:\n",
    "                if val == \"\\n\": continue \n",
    "                if int(val) > 1200 or int(val) == -1: val= 1200\n",
    "                mat[i][j]=float(int(val))\n",
    "                j+=1\n",
    "                j=j%640\n",
    "\n",
    "            i+=1\n",
    "        mat = np.asarray(mat)\n",
    "    mat_small=mat[140:340,220:420]\n",
    "    mat_small=(mat_small-np.mean(mat_small))/np.max(mat_small)\n",
    " #   plt.imshow(mat_small)\n",
    " #   plt.show()\n",
    "    \n",
    "    folder2=np.random.choice(glob.glob(file_path + \"*\"))\n",
    "    while folder==folder2 or folder2==\"datalab\": #it activates if it chose the same folder\n",
    "        folder2=np.random.choice(glob.glob(file_path + \"*\"))\n",
    "    mat2=np.zeros((480,640), dtype='float32')\n",
    "    i=0\n",
    "    j=0\n",
    "    depth_file = np.random.choice(glob.glob(folder2 + \"/*.dat\"))\n",
    "    with open(depth_file) as file:\n",
    "        for line in file:\n",
    "            vals = line.split('\\t')\n",
    "            for val in vals:\n",
    "                if val == \"\\n\": continue\n",
    "                if int(val) > 1200 or int(val) == -1: val= 1200\n",
    "                mat2[i][j]=float(int(val))\n",
    "                j+=1\n",
    "                j=j%640\n",
    "\n",
    "            i+=1\n",
    "        mat2 = np.asarray(mat2)\n",
    "    mat2_small=mat2[140:340,220:420]\n",
    "    mat2_small=(mat2_small-np.mean(mat2_small))/np.max(mat2_small)\n",
    " #   plt.imshow(mat2_small)\n",
    " #   plt.show()\n",
    "  \n",
    "    \n",
    "    return np.array([mat_small, mat2_small])"
   ]
  },
  {
   "cell_type": "code",
   "execution_count": null,
   "metadata": {
    "colab": {
     "autoexec": {
      "startup": false,
      "wait_interval": 0
     },
     "base_uri": "https://localhost:8080/",
     "height": 476,
     "output_extras": [
      {
       "item_id": 1
      }
     ]
    },
    "colab_type": "code",
    "executionInfo": {
     "elapsed": 1810,
     "status": "ok",
     "timestamp": 1520875659583,
     "user": {
      "displayName": "Norman Di Palo",
      "photoUrl": "//lh5.googleusercontent.com/-hwpkiYzSctg/AAAAAAAAAAI/AAAAAAAAAkg/I59DXttMdKw/s50-c-k-no/photo.jpg",
      "userId": "109405231849327541723"
     },
     "user_tz": -60
    },
    "id": "NzsUozpkEp2s",
    "outputId": "fcd17e6e-45a9-4d6f-8a33-4aebba4aec44"
   },
   "outputs": [],
   "source": [
    "create_wrong(\"faceid_train/\")"
   ]
  },
  {
   "cell_type": "code",
   "execution_count": null,
   "metadata": {
    "colab": {
     "autoexec": {
      "startup": false,
      "wait_interval": 0
     }
    },
    "colab_type": "code",
    "id": "kbcdYKNj-cou"
   },
   "outputs": [],
   "source": [
    "def create_wrong_rgbd(file_path):\n",
    "    folder=np.random.choice(glob.glob(file_path + \"*\"))\n",
    "    while folder == \"datalab\":\n",
    "      folder=np.random.choice(glob.glob(file_path + \"*\"))    \n",
    "    mat=np.zeros((480,640), dtype='float32')\n",
    "    i=0\n",
    "    j=0\n",
    "    depth_file = np.random.choice(glob.glob(folder + \"/*.dat\"))\n",
    "    with open(depth_file) as file:\n",
    "        for line in file:\n",
    "            vals = line.split('\\t')\n",
    "            for val in vals:\n",
    "                if val == \"\\n\": continue\n",
    "                if int(val) > 1200 or int(val) == -1: val= 1200\n",
    "                mat[i][j]=float(int(val))\n",
    "                j+=1\n",
    "                j=j%640\n",
    "\n",
    "            i+=1\n",
    "        mat = np.asarray(mat)\n",
    "    mat_small=mat[140:340,220:420]\n",
    "    img = Image.open(depth_file[:-5] + \"c.bmp\")\n",
    "    img.thumbnail((640,480))\n",
    "    img = np.asarray(img)\n",
    "    img = img[140:340,220:420]\n",
    "    mat_small=(mat_small-np.mean(mat_small))/np.max(mat_small)\n",
    "  #  plt.imshow(img)\n",
    "  #  plt.show()\n",
    "  #  plt.imshow(mat_small)\n",
    "  #  plt.show()\n",
    "    folder2=np.random.choice(glob.glob(file_path + \"*\"))\n",
    "    while folder==folder2 or folder2==\"datalab\": #it activates if it chose the same folder\n",
    "        folder2=np.random.choice(glob.glob(file_path + \"*\"))\n",
    "    mat2=np.zeros((480,640), dtype='float32')\n",
    "    i=0\n",
    "    j=0\n",
    "    depth_file = np.random.choice(glob.glob(folder2 + \"/*.dat\"))\n",
    "    with open(depth_file) as file:\n",
    "        for line in file:\n",
    "            vals = line.split('\\t')\n",
    "            for val in vals:\n",
    "                if val == \"\\n\": continue \n",
    "                if int(val) > 1200 or int(val) == -1: val= 1200\n",
    "                mat2[i][j]=float(int(val))\n",
    "                j+=1\n",
    "                j=j%640\n",
    "\n",
    "            i+=1\n",
    "        mat2 = np.asarray(mat2)\n",
    "    mat2_small=mat2[140:340,220:420]\n",
    "    img2 = Image.open(depth_file[:-5] + \"c.bmp\")\n",
    "    img2.thumbnail((640,480))\n",
    "    img2 = np.asarray(img2)\n",
    "    img2 = img2[140:340,220:420]\n",
    "    mat2_small=(mat2_small-np.mean(mat2_small))/np.max(mat2_small)\n",
    " #   plt.imshow(img2)\n",
    " #   plt.show()\n",
    " #   plt.imshow(mat2_small)\n",
    " #   plt.show()\n",
    "    full1 = np.zeros((200,200,4))\n",
    "    full1[:,:,:3] = img[:,:,:3]\n",
    "    full1[:,:,3] = mat_small\n",
    "    \n",
    "    full2 = np.zeros((200,200,4))\n",
    "    full2[:,:,:3] = img2[:,:,:3]\n",
    "    full2[:,:,3] = mat2_small\n",
    "    return np.array([full1, full2])"
   ]
  },
  {
   "cell_type": "code",
   "execution_count": null,
   "metadata": {
    "colab": {
     "autoexec": {
      "startup": false,
      "wait_interval": 0
     },
     "base_uri": "https://localhost:8080/",
     "height": 34,
     "output_extras": [
      {
       "item_id": 1
      }
     ]
    },
    "colab_type": "code",
    "executionInfo": {
     "elapsed": 1722,
     "status": "ok",
     "timestamp": 1520875662648,
     "user": {
      "displayName": "Norman Di Palo",
      "photoUrl": "//lh5.googleusercontent.com/-hwpkiYzSctg/AAAAAAAAAAI/AAAAAAAAAkg/I59DXttMdKw/s50-c-k-no/photo.jpg",
      "userId": "109405231849327541723"
     },
     "user_tz": -60
    },
    "id": "sH8L8uaknZqw",
    "outputId": "374180f4-5f09-40d7-e4b8-c0250cfc5117"
   },
   "outputs": [],
   "source": [
    "create_wrong_rgbd(\"faceid_val/\")[0].shape"
   ]
  },
  {
   "cell_type": "markdown",
   "metadata": {
    "colab_type": "text",
    "id": "ypQwUJXPX8IM"
   },
   "source": [
    "# Network crafting.\n",
    "Now we create the network. We first manually create the *constrative loss*, then we define the network architecture starting from the SqueezeNet architecture, and then using it as a siamese-network for embedding faces into a manifold. (the network for now is very big and could be heavily optimized, but I just wanted to show a proof-of-concept)"
   ]
  },
  {
   "cell_type": "code",
   "execution_count": null,
   "metadata": {
    "colab": {
     "autoexec": {
      "startup": false,
      "wait_interval": 0
     }
    },
    "colab_type": "code",
    "id": "Hb8GAKvQocVw"
   },
   "outputs": [],
   "source": [
    "from keras.models import Sequential, Model\n",
    "from keras.layers import Dense, Activation, Flatten, Dropout, Lambda, ELU, concatenate, GlobalAveragePooling2D, Input, BatchNormalization, SeparableConv2D, Subtract, concatenate\n",
    "from keras.activations import relu, softmax\n",
    "from keras.layers.convolutional import Convolution2D\n",
    "from keras.layers.pooling import MaxPooling2D, AveragePooling2D\n",
    "from keras.optimizers import Adam, RMSprop, SGD\n",
    "from keras.regularizers import l2\n",
    "from keras import backend as K"
   ]
  },
  {
   "cell_type": "code",
   "execution_count": null,
   "metadata": {
    "colab": {
     "autoexec": {
      "startup": false,
      "wait_interval": 0
     }
    },
    "colab_type": "code",
    "id": "e37tdjTcooS-"
   },
   "outputs": [],
   "source": [
    "def euclidean_distance(inputs):\n",
    "    assert len(inputs) == 2, \\\n",
    "        'Euclidean distance needs 2 inputs, %d given' % len(inputs)\n",
    "    u, v = inputs\n",
    "    return K.sqrt(K.sum((K.square(u - v)), axis=1, keepdims=True))\n",
    "        \n",
    "\n",
    "def contrastive_loss(y_true,y_pred):\n",
    "    margin=1.\n",
    "    return K.mean((1. - y_true) * K.square(y_pred) + y_true * K.square(K.maximum(margin - y_pred, 0.)))\n",
    "   # return K.mean( K.square(y_pred) )"
   ]
  },
  {
   "cell_type": "code",
   "execution_count": null,
   "metadata": {
    "colab": {
     "autoexec": {
      "startup": false,
      "wait_interval": 0
     }
    },
    "colab_type": "code",
    "id": "KhcLtqEWo3Wh"
   },
   "outputs": [],
   "source": [
    "def fire(x, squeeze=16, expand=64):\n",
    "    x = Convolution2D(squeeze, (1,1), padding='valid')(x)\n",
    "    x = Activation('relu')(x)\n",
    "    \n",
    "    left = Convolution2D(expand, (1,1), padding='valid')(x)\n",
    "    left = Activation('relu')(left)\n",
    "    \n",
    "    right = Convolution2D(expand, (3,3), padding='same')(x)\n",
    "    right = Activation('relu')(right)\n",
    "    \n",
    "    x = concatenate([left, right], axis=3)\n",
    "    return x"
   ]
  },
  {
   "cell_type": "code",
   "execution_count": null,
   "metadata": {
    "colab": {
     "autoexec": {
      "startup": false,
      "wait_interval": 0
     },
     "base_uri": "https://localhost:8080/",
     "height": 2516,
     "output_extras": [
      {
       "item_id": 1
      }
     ]
    },
    "colab_type": "code",
    "executionInfo": {
     "elapsed": 1665,
     "status": "ok",
     "timestamp": 1520875946309,
     "user": {
      "displayName": "Norman Di Palo",
      "photoUrl": "//lh5.googleusercontent.com/-hwpkiYzSctg/AAAAAAAAAAI/AAAAAAAAAkg/I59DXttMdKw/s50-c-k-no/photo.jpg",
      "userId": "109405231849327541723"
     },
     "user_tz": -60
    },
    "id": "JKA3EcVyo_C8",
    "outputId": "e84349d1-4269-499b-add4-a5038c7eee4b"
   },
   "outputs": [],
   "source": [
    "\n",
    "img_input=Input(shape=(200,200,4))\n",
    "\n",
    "x = Convolution2D(64, (5, 5), strides=(2, 2), padding='valid')(img_input)\n",
    "x = BatchNormalization()(x)\n",
    "x = Activation('relu')(x)\n",
    "x = MaxPooling2D(pool_size=(3, 3), strides=(2, 2))(x)\n",
    "\n",
    "x = fire(x, squeeze=16, expand=16)\n",
    "\n",
    "x = fire(x, squeeze=16, expand=16)\n",
    "\n",
    "x = MaxPooling2D(pool_size=(3, 3), strides=(2, 2))(x)\n",
    "\n",
    "\n",
    "x = fire(x, squeeze=32, expand=32)\n",
    "\n",
    "x = fire(x, squeeze=32, expand=32)\n",
    "\n",
    "x = MaxPooling2D(pool_size=(3, 3), strides=(2, 2))(x)\n",
    "\n",
    "\n",
    "x = fire(x, squeeze=48, expand=48)\n",
    "\n",
    "x = fire(x, squeeze=48, expand=48)\n",
    "\n",
    "x = fire(x, squeeze=64, expand=64)\n",
    "\n",
    "x = fire(x, squeeze=64, expand=64)\n",
    "\n",
    "x = Dropout(0.2)(x)\n",
    "\n",
    "x = Convolution2D(512, (1, 1), padding='same')(x)\n",
    "out = Activation('relu')(x)\n",
    "\n",
    "\n",
    "modelsqueeze= Model(img_input, out)\n",
    "\n",
    "modelsqueeze.summary()\n",
    "\n",
    "\n"
   ]
  },
  {
   "cell_type": "code",
   "execution_count": null,
   "metadata": {
    "colab": {
     "autoexec": {
      "startup": false,
      "wait_interval": 0
     },
     "base_uri": "https://localhost:8080/",
     "height": 663,
     "output_extras": [
      {
       "item_id": 1
      }
     ]
    },
    "colab_type": "code",
    "executionInfo": {
     "elapsed": 1202,
     "status": "ok",
     "timestamp": 1520875947670,
     "user": {
      "displayName": "Norman Di Palo",
      "photoUrl": "//lh5.googleusercontent.com/-hwpkiYzSctg/AAAAAAAAAAI/AAAAAAAAAkg/I59DXttMdKw/s50-c-k-no/photo.jpg",
      "userId": "109405231849327541723"
     },
     "user_tz": -60
    },
    "id": "XSy2AIxBpTG3",
    "outputId": "c7891a94-7ed3-4cd0-8054-fc7f795ff52b"
   },
   "outputs": [],
   "source": [
    "im_in = Input(shape=(200,200,4))\n",
    "#wrong = Input(shape=(200,200,3))\n",
    "\n",
    "x1 = modelsqueeze(im_in)\n",
    "#x = Convolution2D(64, (5, 5), padding='valid', strides =(2,2))(x)\n",
    "\n",
    "#x1 = MaxPooling2D(pool_size=(3, 3), strides=(2, 2))(x1)\n",
    "\n",
    "\"\"\"\n",
    "x1 = Convolution2D(256, (3,3), padding='valid', activation=\"relu\")(x1)\n",
    "x1 = Dropout(0.4)(x1)\n",
    "\n",
    "x1 = MaxPooling2D(pool_size=(3, 3), strides=(1, 1))(x1)\n",
    "\n",
    "x1 = Convolution2D(256, (3,3), padding='valid', activation=\"relu\")(x1)\n",
    "x1 = BatchNormalization()(x1)\n",
    "x1 = Dropout(0.4)(x1)\n",
    "\n",
    "x1 = Convolution2D(64, (1,1), padding='same', activation=\"relu\")(x1)\n",
    "x1 = BatchNormalization()(x1)\n",
    "x1 = Dropout(0.4)(x1)\n",
    "\"\"\"\n",
    "\n",
    "\n",
    "\n",
    "x1 = Flatten()(x1)\n",
    "\n",
    "x1 = Dense(512, activation=\"relu\")(x1)\n",
    "x1 = Dropout(0.2)(x1)\n",
    "#x1 = BatchNormalization()(x1)\n",
    "feat_x = Dense(128, activation=\"linear\")(x1)\n",
    "feat_x = Lambda(lambda  x: K.l2_normalize(x,axis=1))(feat_x)\n",
    "\n",
    "\n",
    "model_top = Model(inputs = [im_in], outputs = feat_x)\n",
    "\n",
    "model_top.summary()\n",
    "\n",
    "im_in1 = Input(shape=(200,200,4))\n",
    "im_in2 = Input(shape=(200,200,4))\n",
    "\n",
    "feat_x1 = model_top(im_in1)\n",
    "feat_x2 = model_top(im_in2)\n",
    "\n",
    "\n",
    "lambda_merge = Lambda(euclidean_distance)([feat_x1, feat_x2])\n",
    "\n",
    "\n",
    "model_final = Model(inputs = [im_in1, im_in2], outputs = lambda_merge)\n",
    "\n",
    "model_final.summary()\n",
    "\n",
    "adam = Adam(lr=0.001)\n",
    "\n",
    "sgd = SGD(lr=0.001, momentum=0.9)\n",
    "\n",
    "model_final.compile(optimizer=adam, loss=contrastive_loss)"
   ]
  },
  {
   "cell_type": "markdown",
   "metadata": {
    "colab_type": "text",
    "id": "o37-2YMQYU3m"
   },
   "source": [
    "# Learning phase.\n",
    "We write the generators that will give our model batches of data to train on, then we run the training."
   ]
  },
  {
   "cell_type": "code",
   "execution_count": null,
   "metadata": {
    "colab": {
     "autoexec": {
      "startup": false,
      "wait_interval": 0
     }
    },
    "colab_type": "code",
    "id": "PYSFqo-ppTnJ"
   },
   "outputs": [],
   "source": [
    "def generator(batch_size):\n",
    "  \n",
    "  while 1:\n",
    "    X=[]\n",
    "    y=[]\n",
    "    switch=True\n",
    "    for _ in range(batch_size):\n",
    "   #   switch += 1\n",
    "      if switch:\n",
    "     #   print(\"correct\")\n",
    "        X.append(create_couple_rgbd(\"faceid_train/\").reshape((2,200,200,4)))\n",
    "        y.append(np.array([0.]))\n",
    "      else:\n",
    "     #   print(\"wrong\")\n",
    "        X.append(create_wrong_rgbd(\"faceid_train/\").reshape((2,200,200,4)))\n",
    "        y.append(np.array([1.]))\n",
    "      switch=not switch\n",
    "    X = np.asarray(X)\n",
    "    y = np.asarray(y)\n",
    "    XX1=X[0,:]\n",
    "    XX2=X[1,:]\n",
    "    yield [X[:,0],X[:,1]],y"
   ]
  },
  {
   "cell_type": "code",
   "execution_count": null,
   "metadata": {
    "colab": {
     "autoexec": {
      "startup": false,
      "wait_interval": 0
     }
    },
    "colab_type": "code",
    "id": "Zs8Ktvcbjq31"
   },
   "outputs": [],
   "source": [
    "def val_generator(batch_size):\n",
    "  \n",
    "  while 1:\n",
    "    X=[]\n",
    "    y=[]\n",
    "    switch=True\n",
    "    for _ in range(batch_size):\n",
    "      if switch:\n",
    "        X.append(create_couple_rgbd(\"faceid_val/\").reshape((2,200,200,4)))\n",
    "        y.append(np.array([0.]))\n",
    "      else:\n",
    "        X.append(create_wrong_rgbd(\"faceid_val/\").reshape((2,200,200,4)))\n",
    "        y.append(np.array([1.]))\n",
    "      switch=not switch\n",
    "    X = np.asarray(X)\n",
    "    y = np.asarray(y)\n",
    "    XX1=X[0,:]\n",
    "    XX2=X[1,:]\n",
    "    yield [X[:,0],X[:,1]],y"
   ]
  },
  {
   "cell_type": "code",
   "execution_count": null,
   "metadata": {
    "colab": {
     "autoexec": {
      "startup": false,
      "wait_interval": 0
     }
    },
    "colab_type": "code",
    "id": "x_tsUiyAslYj"
   },
   "outputs": [],
   "source": [
    "gen = generator(16)\n",
    "val_gen = val_generator(4)"
   ]
  },
  {
   "cell_type": "code",
   "execution_count": null,
   "metadata": {
    "colab": {
     "autoexec": {
      "startup": false,
      "wait_interval": 0
     },
     "base_uri": "https://localhost:8080/",
     "height": 949,
     "output_extras": [
      {},
      {},
      {},
      {},
      {},
      {},
      {},
      {}
     ]
    },
    "colab_type": "code",
    "executionInfo": {
     "elapsed": 3837783,
     "status": "error",
     "timestamp": 1520706651566,
     "user": {
      "displayName": "Norman Di Palo",
      "photoUrl": "//lh5.googleusercontent.com/-hwpkiYzSctg/AAAAAAAAAAI/AAAAAAAAAkg/I59DXttMdKw/s50-c-k-no/photo.jpg",
      "userId": "109405231849327541723"
     },
     "user_tz": -60
    },
    "id": "UcV1AqgQs0tr",
    "outputId": "34152b5d-8c8d-49ae-be55-444ea20a88d4"
   },
   "outputs": [],
   "source": [
    "outputs = model_final.fit_generator(gen, steps_per_epoch=30, epochs=50, validation_data = val_gen, validation_steps=20)"
   ]
  },
  {
   "cell_type": "markdown",
   "metadata": {
    "colab_type": "text",
    "id": "e0ANrU9zYdwq"
   },
   "source": [
    "# Some model tests.\n"
   ]
  },
  {
   "cell_type": "code",
   "execution_count": null,
   "metadata": {
    "colab": {
     "autoexec": {
      "startup": false,
      "wait_interval": 0
     },
     "base_uri": "https://localhost:8080/",
     "height": 181,
     "output_extras": [
      {}
     ]
    },
    "colab_type": "code",
    "executionInfo": {
     "elapsed": 652,
     "status": "error",
     "timestamp": 1520676724725,
     "user": {
      "displayName": "Norman Di Palo",
      "photoUrl": "//lh5.googleusercontent.com/-hwpkiYzSctg/AAAAAAAAAAI/AAAAAAAAAkg/I59DXttMdKw/s50-c-k-no/photo.jpg",
      "userId": "109405231849327541723"
     },
     "user_tz": -60
    },
    "id": "mBv4yjz958KR",
    "outputId": "97fc3075-7639-47dc-a7fe-c68f2e887123"
   },
   "outputs": [],
   "source": [
    "cop = create_couple(\"faceid_val/\")\n",
    "model_final.evaluate([cop[0].reshape((1,200,200,1)), cop[1].reshape((1,200,200,1))], np.array([0.]))"
   ]
  },
  {
   "cell_type": "code",
   "execution_count": null,
   "metadata": {
    "colab": {
     "autoexec": {
      "startup": false,
      "wait_interval": 0
     },
     "base_uri": "https://localhost:8080/",
     "height": 34,
     "output_extras": [
      {}
     ]
    },
    "colab_type": "code",
    "executionInfo": {
     "elapsed": 1404,
     "status": "ok",
     "timestamp": 1520706715007,
     "user": {
      "displayName": "Norman Di Palo",
      "photoUrl": "//lh5.googleusercontent.com/-hwpkiYzSctg/AAAAAAAAAAI/AAAAAAAAAkg/I59DXttMdKw/s50-c-k-no/photo.jpg",
      "userId": "109405231849327541723"
     },
     "user_tz": -60
    },
    "id": "OQyEXogj7OVI",
    "outputId": "b27a2c8b-38a3-4ed5-c1d9-dbf6ad386c12"
   },
   "outputs": [],
   "source": [
    "cop = create_wrong_rgbd(\"faceid_val/\")\n",
    "model_final.predict([cop[0].reshape((1,200,200,4)), cop[1].reshape((1,200,200,4))])"
   ]
  },
  {
   "cell_type": "markdown",
   "metadata": {
    "colab_type": "text",
    "id": "ZHsdoBlPYhYg"
   },
   "source": [
    "# Saving and loading the model.\n",
    "The next cells show both how to save the model weights and upload them into your Drive, and then how to retrieve those weights from the Drive to load a pre-trained model."
   ]
  },
  {
   "cell_type": "code",
   "execution_count": null,
   "metadata": {
    "colab": {
     "autoexec": {
      "startup": false,
      "wait_interval": 0
     }
    },
    "colab_type": "code",
    "id": "vZwXpSCQpLwd"
   },
   "outputs": [],
   "source": [
    "model_final.save(\"faceid_big_rgbd_2.h5\")"
   ]
  },
  {
   "cell_type": "code",
   "execution_count": null,
   "metadata": {
    "colab": {
     "autoexec": {
      "startup": false,
      "wait_interval": 0
     }
    },
    "colab_type": "code",
    "id": "R44vdVVdyiYm"
   },
   "outputs": [],
   "source": [
    "# from google.colab import files"
   ]
  },
  {
   "cell_type": "code",
   "execution_count": null,
   "metadata": {
    "colab": {
     "autoexec": {
      "startup": false,
      "wait_interval": 0
     },
     "base_uri": "https://localhost:8080/",
     "height": 34,
     "output_extras": [
      {}
     ]
    },
    "colab_type": "code",
    "executionInfo": {
     "elapsed": 38935,
     "status": "ok",
     "timestamp": 1520706780161,
     "user": {
      "displayName": "Norman Di Palo",
      "photoUrl": "//lh5.googleusercontent.com/-hwpkiYzSctg/AAAAAAAAAAI/AAAAAAAAAkg/I59DXttMdKw/s50-c-k-no/photo.jpg",
      "userId": "109405231849327541723"
     },
     "user_tz": -60
    },
    "id": "53xZa7JXykeQ",
    "outputId": "fffab0ce-29f7-4cb0-8545-0f10b7f7aadb"
   },
   "outputs": [],
   "source": [
    "# # Install the PyDrive wrapper & import libraries.\n",
    "# # This only needs to be done once in a notebook.\n",
    "# !pip install -U -q PyDrive\n",
    "# from pydrive.auth import GoogleAuth\n",
    "# from pydrive.drive import GoogleDrive\n",
    "# from google.colab import auth\n",
    "# from oauth2client.client import GoogleCredentials\n",
    "\n",
    "# # Authenticate and create the PyDrive client.\n",
    "# # This only needs to be done once in a notebook.\n",
    "# auth.authenticate_user()\n",
    "# gauth = GoogleAuth()\n",
    "# gauth.credentials = GoogleCredentials.get_application_default()\n",
    "# drive = GoogleDrive(gauth)\n",
    "\n",
    "# # Create & upload a file.\n",
    "# uploaded = drive.CreateFile({'title': 'faceid_big_rgbd.h5'})\n",
    "# uploaded.SetContentFile('faceid_big_rgbd.h5')\n",
    "# uploaded.Upload()\n",
    "# print('Uploaded file with ID {}'.format(uploaded.get('id')))"
   ]
  },
  {
   "cell_type": "code",
   "execution_count": null,
   "metadata": {
    "colab": {
     "autoexec": {
      "startup": false,
      "wait_interval": 0
     }
    },
    "colab_type": "code",
    "id": "-soDN2VJs5T_"
   },
   "outputs": [],
   "source": [
    "# # Install the PyDrive wrapper & import libraries.\n",
    "# # This only needs to be done once per notebook.\n",
    "# !pip install -U -q PyDrive\n",
    "# from pydrive.auth import GoogleAuth\n",
    "# from pydrive.drive import GoogleDrive\n",
    "# from google.colab import auth\n",
    "# from oauth2client.client import GoogleCredentials\n",
    "\n",
    "# # Authenticate and create the PyDrive client.\n",
    "# # This only needs to be done once per notebook.\n",
    "# auth.authenticate_user()\n",
    "# gauth = GoogleAuth()\n",
    "# gauth.credentials = GoogleCredentials.get_application_default()\n",
    "# drive = GoogleDrive(gauth)\n",
    "\n",
    "# # Download a file based on its file ID.\n",
    "# #\n",
    "# # A file ID looks like: laggVyWshwcyP6kEI-y_W3P8D26sz\n",
    "# file_id = '17Lo_ZxYcKO751iYs4XRyIvVXME8Lyc75'\n",
    "# downloaded = drive.CreateFile({'id': file_id})\n",
    "# #print('Downloaded content \"{}\"'.format(downloaded.GetContentString()))"
   ]
  },
  {
   "cell_type": "code",
   "execution_count": null,
   "metadata": {
    "colab": {
     "autoexec": {
      "startup": false,
      "wait_interval": 0
     }
    },
    "colab_type": "code",
    "id": "2J6b7vzqtSGU"
   },
   "outputs": [],
   "source": [
    "# downloaded.GetContentFile('pesi.h5')"
   ]
  },
  {
   "cell_type": "code",
   "execution_count": null,
   "metadata": {
    "colab": {
     "autoexec": {
      "startup": false,
      "wait_interval": 0
     }
    },
    "colab_type": "code",
    "id": "jvO_pCGQugnR"
   },
   "outputs": [],
   "source": [
    "from keras.models import load_model\n"
   ]
  },
  {
   "cell_type": "code",
   "execution_count": null,
   "metadata": {
    "colab": {
     "autoexec": {
      "startup": false,
      "wait_interval": 0
     }
    },
    "colab_type": "code",
    "id": "1JcUbcJbuoak"
   },
   "outputs": [],
   "source": [
    "model_final.load_weights('pesi.h5')\n"
   ]
  },
  {
   "cell_type": "markdown",
   "metadata": {
    "colab_type": "text",
    "id": "VWIiy1gNYuyU"
   },
   "source": [
    "# Raw output.\n",
    "Here we create a model that outputs the embedding of an input face instead of the distance between two embeddings, so we can map those outputs."
   ]
  },
  {
   "cell_type": "code",
   "execution_count": null,
   "metadata": {
    "colab": {
     "autoexec": {
      "startup": false,
      "wait_interval": 0
     },
     "base_uri": "https://localhost:8080/",
     "height": 204,
     "output_extras": [
      {
       "item_id": 1
      }
     ]
    },
    "colab_type": "code",
    "executionInfo": {
     "elapsed": 845,
     "status": "ok",
     "timestamp": 1520875977798,
     "user": {
      "displayName": "Norman Di Palo",
      "photoUrl": "//lh5.googleusercontent.com/-hwpkiYzSctg/AAAAAAAAAAI/AAAAAAAAAkg/I59DXttMdKw/s50-c-k-no/photo.jpg",
      "userId": "109405231849327541723"
     },
     "user_tz": -60
    },
    "id": "mscCbMwEvI9Y",
    "outputId": "1e253bbc-0c22-43cf-afb7-474e6d86dc6e"
   },
   "outputs": [],
   "source": [
    "im_in1 = Input(shape=(200,200,4))\n",
    "#im_in2 = Input(shape=(200,200,4))\n",
    "\n",
    "feat_x1 = model_top(im_in1)\n",
    "#feat_x2 = model_top(im_in2)\n",
    "\n",
    "\n",
    "\n",
    "model_output = Model(inputs = im_in1, outputs = feat_x1)\n",
    "\n",
    "model_output.summary()\n",
    "\n",
    "adam = Adam(lr=0.001)\n",
    "\n",
    "sgd = SGD(lr=0.001, momentum=0.9)\n",
    "\n",
    "model_output.compile(optimizer=adam, loss=contrastive_loss)"
   ]
  },
  {
   "cell_type": "code",
   "execution_count": null,
   "metadata": {
    "colab": {
     "autoexec": {
      "startup": false,
      "wait_interval": 0
     },
     "base_uri": "https://localhost:8080/",
     "height": 459,
     "output_extras": [
      {
       "item_id": 1
      }
     ]
    },
    "colab_type": "code",
    "executionInfo": {
     "elapsed": 1669,
     "status": "ok",
     "timestamp": 1520875987230,
     "user": {
      "displayName": "Norman Di Palo",
      "photoUrl": "//lh5.googleusercontent.com/-hwpkiYzSctg/AAAAAAAAAAI/AAAAAAAAAkg/I59DXttMdKw/s50-c-k-no/photo.jpg",
      "userId": "109405231849327541723"
     },
     "user_tz": -60
    },
    "id": "qZuWJKRhwJRZ",
    "outputId": "f2880290-02be-4551-89c3-1ffb6062f10f"
   },
   "outputs": [],
   "source": [
    "cop = create_couple_rgbd(\"faceid_val/\")\n",
    "model_output.predict(cop[0].reshape((1,200,200,4)))"
   ]
  },
  {
   "cell_type": "code",
   "execution_count": null,
   "metadata": {
    "colab": {
     "autoexec": {
      "startup": false,
      "wait_interval": 0
     }
    },
    "colab_type": "code",
    "id": "LrVE78tyvFoQ"
   },
   "outputs": [],
   "source": [
    "def create_input_rgbd(file_path):\n",
    "  #  print(folder)\n",
    "    mat=np.zeros((480,640), dtype='float32')\n",
    "    i=0\n",
    "    j=0\n",
    "    depth_file = file_path\n",
    "    with open(depth_file) as file:\n",
    "        for line in file:\n",
    "            vals = line.split('\\t')\n",
    "            for val in vals:\n",
    "                if val == \"\\n\": continue    \n",
    "                if int(val) > 1200 or int(val) == -1: val= 1200\n",
    "                mat[i][j]=float(int(val))\n",
    "                j+=1\n",
    "                j=j%640\n",
    "\n",
    "            i+=1\n",
    "        mat = np.asarray(mat)\n",
    "    mat_small=mat[140:340,220:420]\n",
    "    img = Image.open(depth_file[:-5] + \"c.bmp\")\n",
    "    img.thumbnail((640,480))\n",
    "    img = np.asarray(img)\n",
    "    img = img[140:340,220:420]\n",
    "    mat_small=(mat_small-np.mean(mat_small))/np.max(mat_small)\n",
    "    plt.figure(figsize=(8,8))\n",
    "    plt.grid(True)\n",
    "    plt.xticks([])\n",
    "    plt.yticks([])\n",
    "    plt.imshow(mat_small)\n",
    "    plt.show()\n",
    "    plt.figure(figsize=(8,8))\n",
    "    plt.grid(True)\n",
    "    plt.xticks([])\n",
    "    plt.yticks([])\n",
    "    plt.imshow(img)\n",
    "    plt.show()\n",
    "    \n",
    "    \n",
    "    \n",
    "    full1 = np.zeros((200,200,4))\n",
    "    full1[:,:,:3] = img[:,:,:3]\n",
    "    full1[:,:,3] = mat_small\n",
    "    \n",
    "    return np.array([full1])"
   ]
  },
  {
   "cell_type": "markdown",
   "metadata": {
    "colab_type": "text",
    "id": "PHM4NdyYY7dg"
   },
   "source": [
    "# Data visualization.\n",
    "Here we store the embeddings for all the faces in the dataset. Then, using both **t-SNE** and **PCA**, we visualize the embeddings going from 128 to 2 dimensions. "
   ]
  },
  {
   "cell_type": "code",
   "execution_count": null,
   "metadata": {
    "colab": {
     "autoexec": {
      "startup": false,
      "wait_interval": 0
     },
     "base_uri": "https://localhost:8080/",
     "height": 918,
     "output_extras": [
      {}
     ]
    },
    "colab_type": "code",
    "executionInfo": {
     "elapsed": 565824,
     "status": "ok",
     "timestamp": 1520851881246,
     "user": {
      "displayName": "Norman Di Palo",
      "photoUrl": "//lh5.googleusercontent.com/-hwpkiYzSctg/AAAAAAAAAAI/AAAAAAAAAkg/I59DXttMdKw/s50-c-k-no/photo.jpg",
      "userId": "109405231849327541723"
     },
     "user_tz": -60
    },
    "id": "wV9Vfj12w9tq",
    "outputId": "584c3613-22d7-4453-ccc1-810f4b7dc0a7"
   },
   "outputs": [],
   "source": [
    "outputs=[]\n",
    "n=0\n",
    "for folder in glob.glob('faceid_train/*'):\n",
    "  i=0\n",
    "  for file in glob.glob(folder + '/*.dat'):\n",
    "    i+=1\n",
    "    outputs.append(model_output.predict(create_input_rgbd(file).reshape((1,200,200,4))))\n",
    "  print(i)\n",
    "  n+=1\n",
    "  print(\"Folder \", n, \" of \", len(glob.glob('faceid_train/*')))\n",
    "print(len(outputs))"
   ]
  },
  {
   "cell_type": "code",
   "execution_count": null,
   "metadata": {
    "colab": {
     "autoexec": {
      "startup": false,
      "wait_interval": 0
     },
     "base_uri": "https://localhost:8080/",
     "height": 34,
     "output_extras": [
      {}
     ]
    },
    "colab_type": "code",
    "executionInfo": {
     "elapsed": 646,
     "status": "ok",
     "timestamp": 1520852122459,
     "user": {
      "displayName": "Norman Di Palo",
      "photoUrl": "//lh5.googleusercontent.com/-hwpkiYzSctg/AAAAAAAAAAI/AAAAAAAAAkg/I59DXttMdKw/s50-c-k-no/photo.jpg",
      "userId": "109405231849327541723"
     },
     "user_tz": -60
    },
    "id": "xHWd60a2yTDt",
    "outputId": "3e831841-be05-4bdf-84e4-054c4676d9cf"
   },
   "outputs": [],
   "source": [
    "outputs= np.asarray(outputs)\n",
    "outputs = outputs.reshape((-1,128))\n",
    "outputs.shape"
   ]
  },
  {
   "cell_type": "code",
   "execution_count": null,
   "metadata": {
    "colab": {
     "autoexec": {
      "startup": false,
      "wait_interval": 0
     }
    },
    "colab_type": "code",
    "id": "Bi5voxYF1kon"
   },
   "outputs": [],
   "source": [
    "import sklearn\n",
    "from sklearn.manifold import TSNE\n"
   ]
  },
  {
   "cell_type": "code",
   "execution_count": null,
   "metadata": {
    "colab": {
     "autoexec": {
      "startup": false,
      "wait_interval": 0
     },
     "base_uri": "https://localhost:8080/",
     "height": 34,
     "output_extras": [
      {}
     ]
    },
    "colab_type": "code",
    "executionInfo": {
     "elapsed": 20571,
     "status": "ok",
     "timestamp": 1520853394538,
     "user": {
      "displayName": "Norman Di Palo",
      "photoUrl": "//lh5.googleusercontent.com/-hwpkiYzSctg/AAAAAAAAAAI/AAAAAAAAAkg/I59DXttMdKw/s50-c-k-no/photo.jpg",
      "userId": "109405231849327541723"
     },
     "user_tz": -60
    },
    "id": "R8DUpgGa1pzg",
    "outputId": "3ed7628d-9744-46fd-d9bb-6c31d937e12c"
   },
   "outputs": [],
   "source": [
    "X_embedded = TSNE(2).fit_transform(outputs)\n",
    "X_embedded.shape"
   ]
  },
  {
   "cell_type": "code",
   "execution_count": null,
   "metadata": {
    "colab": {
     "autoexec": {
      "startup": false,
      "wait_interval": 0
     },
     "base_uri": "https://localhost:8080/",
     "height": 34,
     "output_extras": [
      {}
     ]
    },
    "colab_type": "code",
    "executionInfo": {
     "elapsed": 691,
     "status": "ok",
     "timestamp": 1520853532457,
     "user": {
      "displayName": "Norman Di Palo",
      "photoUrl": "//lh5.googleusercontent.com/-hwpkiYzSctg/AAAAAAAAAAI/AAAAAAAAAkg/I59DXttMdKw/s50-c-k-no/photo.jpg",
      "userId": "109405231849327541723"
     },
     "user_tz": -60
    },
    "id": "kE8K5L226qXM",
    "outputId": "1b60b83b-9138-4798-fc07-5b081474a11a"
   },
   "outputs": [],
   "source": [
    "import numpy as np\n",
    "from sklearn.decomposition import PCA\n",
    "\n",
    "X_PCA = PCA(3).fit_transform(outputs)\n",
    "print(X_PCA.shape)\n",
    "\n",
    "#X_embedded = TSNE(2).fit_transform(X_PCA)\n",
    "#print(X_embedded.shape)"
   ]
  },
  {
   "cell_type": "code",
   "execution_count": null,
   "metadata": {
    "colab": {
     "autoexec": {
      "startup": false,
      "wait_interval": 0
     }
    },
    "colab_type": "code",
    "id": "XJjBf2Lm2dMV"
   },
   "outputs": [],
   "source": [
    "import matplotlib.pyplot as plt"
   ]
  },
  {
   "cell_type": "code",
   "execution_count": null,
   "metadata": {
    "colab": {
     "autoexec": {
      "startup": false,
      "wait_interval": 0
     },
     "base_uri": "https://localhost:8080/",
     "height": 347,
     "output_extras": [
      {}
     ]
    },
    "colab_type": "code",
    "executionInfo": {
     "elapsed": 7832,
     "status": "ok",
     "timestamp": 1520853507543,
     "user": {
      "displayName": "Norman Di Palo",
      "photoUrl": "//lh5.googleusercontent.com/-hwpkiYzSctg/AAAAAAAAAAI/AAAAAAAAAkg/I59DXttMdKw/s50-c-k-no/photo.jpg",
      "userId": "109405231849327541723"
     },
     "user_tz": -60
    },
    "id": "FOTZ9fEr2lGK",
    "outputId": "146076e0-3761-45af-c9b4-e15eafe8b15c"
   },
   "outputs": [],
   "source": [
    "color = 0\n",
    "for i in range(len((X_embedded))):\n",
    "  el = X_embedded[i]\n",
    "  if i % 51 == 0 and not i==0:\n",
    "    color+=1\n",
    "    color=color%10\n",
    "  plt.scatter(el[0], el[1], color=\"C\" + str(color))"
   ]
  },
  {
   "cell_type": "markdown",
   "metadata": {
    "colab_type": "text",
    "id": "sKnEVXGmZK01"
   },
   "source": [
    "# Distance between two arbitrary RGBD pictures."
   ]
  },
  {
   "cell_type": "code",
   "execution_count": null,
   "metadata": {
    "colab": {
     "autoexec": {
      "startup": false,
      "wait_interval": 0
     },
     "base_uri": "https://localhost:8080/",
     "height": 1830,
     "output_extras": [
      {
       "item_id": 1
      },
      {
       "item_id": 2
      },
      {
       "item_id": 3
      },
      {
       "item_id": 4
      },
      {
       "item_id": 5
      }
     ]
    },
    "colab_type": "code",
    "executionInfo": {
     "elapsed": 2548,
     "status": "ok",
     "timestamp": 1520878039179,
     "user": {
      "displayName": "Norman Di Palo",
      "photoUrl": "//lh5.googleusercontent.com/-hwpkiYzSctg/AAAAAAAAAAI/AAAAAAAAAkg/I59DXttMdKw/s50-c-k-no/photo.jpg",
      "userId": "109405231849327541723"
     },
     "user_tz": -60
    },
    "id": "h9w-piJV11-g",
    "outputId": "ed13ad90-0992-4d49-f55a-d5211d30f84c"
   },
   "outputs": [],
   "source": [
    "\n",
    "file1 = ('faceid_train/(2012-05-16)(154211)/015_1_d.dat')\n",
    "inp1 = create_input_rgbd(file1)\n",
    "file1 = ('faceid_train/(2012-05-16)(154211)/011_1_d.dat')\n",
    "inp2 = create_input_rgbd(file1)\n",
    "\n",
    "model_final.predict([inp1, inp2])\n"
   ]
  },
  {
   "cell_type": "code",
   "execution_count": null,
   "metadata": {
    "colab": {
     "autoexec": {
      "startup": false,
      "wait_interval": 0
     }
    },
    "colab_type": "code",
    "id": "g2XhC-G6C08z"
   },
   "outputs": [],
   "source": []
  }
 ],
 "metadata": {
  "accelerator": "GPU",
  "colab": {
   "collapsed_sections": [],
   "default_view": {},
   "name": "faceid_beta.ipynb",
   "provenance": [],
   "version": "0.3.2",
   "views": {}
  },
  "kernelspec": {
   "display_name": "Python 3",
   "language": "python",
   "name": "python3"
  },
  "language_info": {
   "codemirror_mode": {
    "name": "ipython",
    "version": 3
   },
   "file_extension": ".py",
   "mimetype": "text/x-python",
   "name": "python",
   "nbconvert_exporter": "python",
   "pygments_lexer": "ipython3",
   "version": "3.6.4"
  }
 },
 "nbformat": 4,
 "nbformat_minor": 1
}
